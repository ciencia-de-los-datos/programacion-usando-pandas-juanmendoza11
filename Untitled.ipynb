{
 "cells": [
  {
   "cell_type": "code",
   "execution_count": 2,
   "id": "d751f1f9",
   "metadata": {},
   "outputs": [],
   "source": [
    "import pandas as pd\n",
    "import numpy as np\n",
    "\n",
    "tbl0 = pd.read_csv(\"tbl0.tsv\", sep=\"\\t\")\n",
    "tbl1 = pd.read_csv(\"tbl1.tsv\", sep=\"\\t\")\n",
    "tbl2 = pd.read_csv(\"tbl2.tsv\", sep=\"\\t\")"
   ]
  },
  {
   "cell_type": "code",
   "execution_count": 5,
   "id": "c5c64e90",
   "metadata": {},
   "outputs": [
    {
     "name": "stdout",
     "output_type": "stream",
     "text": [
      "     _c0 _c5a  _c5b\n",
      "0      0  jjj     3\n",
      "1      0  bbb     0\n",
      "2      0  ddd     9\n",
      "3      0  ggg     8\n",
      "4      0  hhh     2\n",
      "..   ...  ...   ...\n",
      "170   38  iii     2\n",
      "171   38  eee     0\n",
      "172   39  hhh     8\n",
      "173   39  ggg     3\n",
      "174   39  jjj     5\n",
      "\n",
      "[175 rows x 3 columns]\n"
     ]
    }
   ],
   "source": [
    "print(tbl2)"
   ]
  },
  {
   "cell_type": "code",
   "execution_count": 10,
   "id": "fde70199",
   "metadata": {},
   "outputs": [],
   "source": [
    "def pregunta_01():\n",
    "    return len(tbl0)"
   ]
  },
  {
   "cell_type": "code",
   "execution_count": 11,
   "id": "1d28c034",
   "metadata": {},
   "outputs": [
    {
     "name": "stdout",
     "output_type": "stream",
     "text": [
      "40\n"
     ]
    }
   ],
   "source": [
    "print(pregunta_01())"
   ]
  },
  {
   "cell_type": "code",
   "execution_count": 37,
   "id": "efd6d7d7",
   "metadata": {},
   "outputs": [],
   "source": [
    "def pregunta_02():\n",
    "    return tbl0.shape[1]"
   ]
  },
  {
   "cell_type": "code",
   "execution_count": 46,
   "id": "8705ee50",
   "metadata": {},
   "outputs": [
    {
     "data": {
      "text/html": [
       "<div>\n",
       "<style scoped>\n",
       "    .dataframe tbody tr th:only-of-type {\n",
       "        vertical-align: middle;\n",
       "    }\n",
       "\n",
       "    .dataframe tbody tr th {\n",
       "        vertical-align: top;\n",
       "    }\n",
       "\n",
       "    .dataframe thead th {\n",
       "        text-align: right;\n",
       "    }\n",
       "</style>\n",
       "<table border=\"1\" class=\"dataframe\">\n",
       "  <thead>\n",
       "    <tr style=\"text-align: right;\">\n",
       "      <th></th>\n",
       "      <th>_c0</th>\n",
       "      <th>_c1</th>\n",
       "      <th>_c2</th>\n",
       "      <th>_c3</th>\n",
       "    </tr>\n",
       "  </thead>\n",
       "  <tbody>\n",
       "    <tr>\n",
       "      <th>0</th>\n",
       "      <td>0</td>\n",
       "      <td>E</td>\n",
       "      <td>1</td>\n",
       "      <td>1999-02-28</td>\n",
       "    </tr>\n",
       "    <tr>\n",
       "      <th>1</th>\n",
       "      <td>1</td>\n",
       "      <td>A</td>\n",
       "      <td>2</td>\n",
       "      <td>1999-10-28</td>\n",
       "    </tr>\n",
       "    <tr>\n",
       "      <th>2</th>\n",
       "      <td>2</td>\n",
       "      <td>B</td>\n",
       "      <td>5</td>\n",
       "      <td>1998-05-02</td>\n",
       "    </tr>\n",
       "    <tr>\n",
       "      <th>3</th>\n",
       "      <td>3</td>\n",
       "      <td>A</td>\n",
       "      <td>3</td>\n",
       "      <td>1999-08-28</td>\n",
       "    </tr>\n",
       "    <tr>\n",
       "      <th>4</th>\n",
       "      <td>4</td>\n",
       "      <td>C</td>\n",
       "      <td>6</td>\n",
       "      <td>1999-12-01</td>\n",
       "    </tr>\n",
       "  </tbody>\n",
       "</table>\n",
       "</div>"
      ],
      "text/plain": [
       "   _c0 _c1  _c2         _c3\n",
       "0    0   E    1  1999-02-28\n",
       "1    1   A    2  1999-10-28\n",
       "2    2   B    5  1998-05-02\n",
       "3    3   A    3  1999-08-28\n",
       "4    4   C    6  1999-12-01"
      ]
     },
     "execution_count": 46,
     "metadata": {},
     "output_type": "execute_result"
    }
   ],
   "source": [
    "tbl0.head()"
   ]
  },
  {
   "cell_type": "code",
   "execution_count": 78,
   "id": "c8020156",
   "metadata": {},
   "outputs": [
    {
     "name": "stdout",
     "output_type": "stream",
     "text": [
      "    _c0 _c1  _c2         _c3\n",
      "0     0   E    1  1999-02-28\n",
      "1     1   A    2  1999-10-28\n",
      "2     2   B    5  1998-05-02\n",
      "3     3   A    3  1999-08-28\n",
      "4     4   C    6  1999-12-01\n",
      "5     5   A    7  1998-07-28\n",
      "6     6   A    9  1997-02-28\n",
      "7     7   B    1  1999-05-10\n",
      "8     8   E    2  1997-04-12\n",
      "9     9   B    3  1999-11-23\n",
      "10   10   C    7  1998-01-17\n",
      "11   11   C    5  1998-12-28\n",
      "12   12   D    3  1999-10-15\n",
      "13   13   E    8  1998-11-01\n",
      "14   14   B    9  1999-08-12\n",
      "15   15   D    1  1997-12-01\n",
      "16   16   E    3  1997-07-28\n",
      "17   17   D    5  1998-08-12\n",
      "18   18   E    8  1999-08-24\n",
      "19   19   E    9  1998-01-23\n",
      "20   20   E    7  1999-06-22\n",
      "21   21   E    3  1999-04-24\n",
      "22   22   D    5  1999-06-25\n",
      "23   23   A    1  1999-08-25\n",
      "24   24   E    4  1997-07-26\n",
      "25   25   E    6  1997-09-24\n",
      "26   26   A    8  1997-09-28\n",
      "27   27   E    5  1999-06-22\n",
      "28   28   A    6  1999-07-29\n",
      "29   29   C    0  1999-08-22\n",
      "30   30   A    1  1998-04-26\n",
      "31   31   D    2  1998-02-24\n",
      "32   32   E    5  1999-03-24\n",
      "33   33   B    4  1998-03-23\n",
      "34   34   B    6  1999-04-21\n",
      "35   35   D    7  1999-02-29\n",
      "36   36   B    8  1997-05-21\n",
      "37   37   C    9  1997-07-22\n",
      "38   38   E    1  1999-09-28\n",
      "39   39   E    5  1998-01-26\n"
     ]
    }
   ],
   "source": [
    "= tbl0.groupby(\"_c1\")[\"last_name\"].count()"
   ]
  },
  {
   "cell_type": "code",
   "execution_count": 62,
   "id": "1b54c469",
   "metadata": {},
   "outputs": [
    {
     "data": {
      "text/plain": [
       "dict_keys(['A', 'B', 'C', 'D', 'E'])"
      ]
     },
     "execution_count": 62,
     "metadata": {},
     "output_type": "execute_result"
    }
   ],
   "source": [
    "y.groups.keys()"
   ]
  },
  {
   "cell_type": "code",
   "execution_count": 65,
   "id": "a4eaf475",
   "metadata": {},
   "outputs": [
    {
     "data": {
      "text/plain": [
       "_c1\n",
       "A     8\n",
       "B     7\n",
       "C     5\n",
       "D     6\n",
       "E    14\n",
       "dtype: int64"
      ]
     },
     "execution_count": 65,
     "metadata": {},
     "output_type": "execute_result"
    }
   ],
   "source": [
    "x.size()"
   ]
  }
 ],
 "metadata": {
  "kernelspec": {
   "display_name": "Python 3 (ipykernel)",
   "language": "python",
   "name": "python3"
  },
  "language_info": {
   "codemirror_mode": {
    "name": "ipython",
    "version": 3
   },
   "file_extension": ".py",
   "mimetype": "text/x-python",
   "name": "python",
   "nbconvert_exporter": "python",
   "pygments_lexer": "ipython3",
   "version": "3.7.10"
  }
 },
 "nbformat": 4,
 "nbformat_minor": 5
}
