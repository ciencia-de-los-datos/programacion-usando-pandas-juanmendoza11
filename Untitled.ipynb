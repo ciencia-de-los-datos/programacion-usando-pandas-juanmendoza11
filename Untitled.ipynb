{
 "cells": [
  {
   "cell_type": "code",
   "execution_count": 2,
   "id": "d751f1f9",
   "metadata": {},
   "outputs": [],
   "source": [
    "import pandas as pd\n",
    "import numpy as np\n",
    "\n",
    "tbl0 = pd.read_csv(\"tbl0.tsv\", sep=\"\\t\")\n",
    "tbl1 = pd.read_csv(\"tbl1.tsv\", sep=\"\\t\")\n",
    "tbl2 = pd.read_csv(\"tbl2.tsv\", sep=\"\\t\")"
   ]
  },
  {
   "cell_type": "code",
   "execution_count": 5,
   "id": "c5c64e90",
   "metadata": {},
   "outputs": [
    {
     "name": "stdout",
     "output_type": "stream",
     "text": [
      "     _c0 _c5a  _c5b\n",
      "0      0  jjj     3\n",
      "1      0  bbb     0\n",
      "2      0  ddd     9\n",
      "3      0  ggg     8\n",
      "4      0  hhh     2\n",
      "..   ...  ...   ...\n",
      "170   38  iii     2\n",
      "171   38  eee     0\n",
      "172   39  hhh     8\n",
      "173   39  ggg     3\n",
      "174   39  jjj     5\n",
      "\n",
      "[175 rows x 3 columns]\n"
     ]
    }
   ],
   "source": [
    "print(tbl2)"
   ]
  },
  {
   "cell_type": "code",
   "execution_count": 10,
   "id": "fde70199",
   "metadata": {},
   "outputs": [],
   "source": [
    "def pregunta_01():\n",
    "    return len(tbl0)"
   ]
  },
  {
   "cell_type": "code",
   "execution_count": 11,
   "id": "b0604a10",
   "metadata": {},
   "outputs": [
    {
     "name": "stdout",
     "output_type": "stream",
     "text": [
      "40\n"
     ]
    }
   ],
   "source": [
    "print(pregunta_01())"
   ]
  },
  {
   "cell_type": "code",
   "execution_count": 33,
   "id": "b3b049d0",
   "metadata": {},
   "outputs": [],
   "source": [
    "def preunta_02():\n",
    "    return tbl1.shape[1]"
   ]
  },
  {
   "cell_type": "code",
   "execution_count": null,
   "id": "c8aa354b",
   "metadata": {},
   "outputs": [],
   "source": []
  }
 ],
 "metadata": {
  "kernelspec": {
   "display_name": "Python 3 (ipykernel)",
   "language": "python",
   "name": "python3"
  },
  "language_info": {
   "codemirror_mode": {
    "name": "ipython",
    "version": 3
   },
   "file_extension": ".py",
   "mimetype": "text/x-python",
   "name": "python",
   "nbconvert_exporter": "python",
   "pygments_lexer": "ipython3",
   "version": "3.7.10"
  }
 },
 "nbformat": 4,
 "nbformat_minor": 5
}
