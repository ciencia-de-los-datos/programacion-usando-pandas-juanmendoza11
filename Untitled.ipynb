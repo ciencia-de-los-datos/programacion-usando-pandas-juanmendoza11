{
 "cells": [
  {
   "cell_type": "code",
   "execution_count": 2,
   "id": "d751f1f9",
   "metadata": {},
   "outputs": [],
   "source": [
    "import pandas as pd\n",
    "import numpy as np\n",
    "\n",
    "tbl0 = pd.read_csv(\"tbl0.tsv\", sep=\"\\t\")\n",
    "tbl1 = pd.read_csv(\"tbl1.tsv\", sep=\"\\t\")\n",
    "tbl2 = pd.read_csv(\"tbl2.tsv\", sep=\"\\t\")"
   ]
  },
  {
   "cell_type": "code",
   "execution_count": 5,
   "id": "c5c64e90",
   "metadata": {},
   "outputs": [
    {
     "name": "stdout",
     "output_type": "stream",
     "text": [
      "     _c0 _c5a  _c5b\n",
      "0      0  jjj     3\n",
      "1      0  bbb     0\n",
      "2      0  ddd     9\n",
      "3      0  ggg     8\n",
      "4      0  hhh     2\n",
      "..   ...  ...   ...\n",
      "170   38  iii     2\n",
      "171   38  eee     0\n",
      "172   39  hhh     8\n",
      "173   39  ggg     3\n",
      "174   39  jjj     5\n",
      "\n",
      "[175 rows x 3 columns]\n"
     ]
    }
   ],
   "source": [
    "print(tbl2)"
   ]
  },
  {
   "cell_type": "code",
   "execution_count": 10,
   "id": "fde70199",
   "metadata": {},
   "outputs": [],
   "source": [
    "def pregunta_01():\n",
    "    return len(tbl0)"
   ]
  },
  {
   "cell_type": "code",
   "execution_count": 11,
   "id": "5f52c4c6",
   "metadata": {},
   "outputs": [
    {
     "name": "stdout",
     "output_type": "stream",
     "text": [
      "40\n"
     ]
    }
   ],
   "source": [
    "print(pregunta_01())"
   ]
  },
  {
   "cell_type": "code",
   "execution_count": 37,
   "id": "a9ee7c8f",
   "metadata": {},
   "outputs": [],
   "source": [
    "def pregunta_02():\n",
    "    return tbl0.shape[1]"
   ]
  },
  {
   "cell_type": "code",
   "execution_count": 46,
   "id": "8ef42250",
   "metadata": {},
   "outputs": [
    {
     "data": {
      "text/html": [
       "<div>\n",
       "<style scoped>\n",
       "    .dataframe tbody tr th:only-of-type {\n",
       "        vertical-align: middle;\n",
       "    }\n",
       "\n",
       "    .dataframe tbody tr th {\n",
       "        vertical-align: top;\n",
       "    }\n",
       "\n",
       "    .dataframe thead th {\n",
       "        text-align: right;\n",
       "    }\n",
       "</style>\n",
       "<table border=\"1\" class=\"dataframe\">\n",
       "  <thead>\n",
       "    <tr style=\"text-align: right;\">\n",
       "      <th></th>\n",
       "      <th>_c0</th>\n",
       "      <th>_c1</th>\n",
       "      <th>_c2</th>\n",
       "      <th>_c3</th>\n",
       "    </tr>\n",
       "  </thead>\n",
       "  <tbody>\n",
       "    <tr>\n",
       "      <th>0</th>\n",
       "      <td>0</td>\n",
       "      <td>E</td>\n",
       "      <td>1</td>\n",
       "      <td>1999-02-28</td>\n",
       "    </tr>\n",
       "    <tr>\n",
       "      <th>1</th>\n",
       "      <td>1</td>\n",
       "      <td>A</td>\n",
       "      <td>2</td>\n",
       "      <td>1999-10-28</td>\n",
       "    </tr>\n",
       "    <tr>\n",
       "      <th>2</th>\n",
       "      <td>2</td>\n",
       "      <td>B</td>\n",
       "      <td>5</td>\n",
       "      <td>1998-05-02</td>\n",
       "    </tr>\n",
       "    <tr>\n",
       "      <th>3</th>\n",
       "      <td>3</td>\n",
       "      <td>A</td>\n",
       "      <td>3</td>\n",
       "      <td>1999-08-28</td>\n",
       "    </tr>\n",
       "    <tr>\n",
       "      <th>4</th>\n",
       "      <td>4</td>\n",
       "      <td>C</td>\n",
       "      <td>6</td>\n",
       "      <td>1999-12-01</td>\n",
       "    </tr>\n",
       "  </tbody>\n",
       "</table>\n",
       "</div>"
      ],
      "text/plain": [
       "   _c0 _c1  _c2         _c3\n",
       "0    0   E    1  1999-02-28\n",
       "1    1   A    2  1999-10-28\n",
       "2    2   B    5  1998-05-02\n",
       "3    3   A    3  1999-08-28\n",
       "4    4   C    6  1999-12-01"
      ]
     },
     "execution_count": 46,
     "metadata": {},
     "output_type": "execute_result"
    }
   ],
   "source": [
    "tbl0.head()"
   ]
  },
  {
   "cell_type": "code",
   "execution_count": 86,
   "id": "e60b8f1f",
   "metadata": {},
   "outputs": [
    {
     "data": {
      "text/plain": [
       "_c1\n",
       "A     8\n",
       "B     7\n",
       "C     5\n",
       "D     6\n",
       "E    14\n",
       "Name: _c1, dtype: int64"
      ]
     },
     "execution_count": 86,
     "metadata": {},
     "output_type": "execute_result"
    }
   ],
   "source": [
    "tbl0.groupby(['_c1'])['_c1'].count()"
   ]
  },
  {
   "cell_type": "code",
   "execution_count": 135,
   "id": "67329d12",
   "metadata": {},
   "outputs": [],
   "source": [
    "def pregunta_06():\n",
    "    \"\"\"\n",
    "    Retorne una lista con los valores unicos de la columna _c4 de del archivo `tbl1.csv`\n",
    "    en mayusculas y ordenados alfabéticamente.\n",
    "\n",
    "    Rta/\n",
    "    ['A', 'B', 'C', 'D', 'E', 'F', 'G']\n",
    "\n",
    "    \"\"\"\n",
    "    lista=list()\n",
    "    lista_0=list(tbl1['_c4'].unique())\n",
    "    length=len(list(tbl1['_c4'].unique()))\n",
    "    for i in range(length):\n",
    "        lista.append(lista_0[i].upper())\n",
    "    return sorted(lista)"
   ]
  },
  {
   "cell_type": "code",
   "execution_count": 136,
   "id": "86364178",
   "metadata": {},
   "outputs": [
    {
     "name": "stdout",
     "output_type": "stream",
     "text": [
      "['A', 'B', 'C', 'D', 'E', 'F', 'G']\n"
     ]
    }
   ],
   "source": [
    "print(pregunta_06())"
   ]
  },
  {
   "cell_type": "code",
   "execution_count": 138,
   "id": "de9f3bf8",
   "metadata": {},
   "outputs": [
    {
     "data": {
      "text/plain": [
       "_c1\n",
       "A    37\n",
       "B    36\n",
       "C    27\n",
       "D    23\n",
       "E    67\n",
       "Name: _c2, dtype: int64"
      ]
     },
     "execution_count": 138,
     "metadata": {},
     "output_type": "execute_result"
    }
   ],
   "source": [
    "tbl0.groupby(['_c1'])['_c2'].sum()"
   ]
  }
 ],
 "metadata": {
  "kernelspec": {
   "display_name": "Python 3 (ipykernel)",
   "language": "python",
   "name": "python3"
  },
  "language_info": {
   "codemirror_mode": {
    "name": "ipython",
    "version": 3
   },
   "file_extension": ".py",
   "mimetype": "text/x-python",
   "name": "python",
   "nbconvert_exporter": "python",
   "pygments_lexer": "ipython3",
   "version": "3.7.10"
  }
 },
 "nbformat": 4,
 "nbformat_minor": 5
}
